{
  "nbformat": 4,
  "nbformat_minor": 0,
  "metadata": {
    "colab": {
      "name": "Urban_Suite_Pollution_by_Mesa.ipynb",
      "provenance": [],
      "collapsed_sections": [],
      "authorship_tag": "ABX9TyNZHxgpsUcqkaVvR1/00QN4",
      "include_colab_link": true
    },
    "kernelspec": {
      "name": "python3",
      "display_name": "Python 3"
    },
    "language_info": {
      "name": "python"
    }
  },
  "cells": [
    {
      "cell_type": "markdown",
      "metadata": {
        "id": "view-in-github",
        "colab_type": "text"
      },
      "source": [
        "<a href=\"https://colab.research.google.com/github/agha-pedram/Urban_Suit_Pollution_by_Mesa/blob/main/Urban_Suite_Pollution_by_Mesa.ipynb\" target=\"_parent\"><img src=\"https://colab.research.google.com/assets/colab-badge.svg\" alt=\"Open In Colab\"/></a>"
      ]
    },
    {
      "cell_type": "code",
      "execution_count": null,
      "metadata": {
        "id": "ufcC4OnXyPiN"
      },
      "outputs": [],
      "source": [
        "!pip install mesa"
      ]
    },
    {
      "cell_type": "code",
      "source": [
        "import mesa\n",
        "import random"
      ],
      "metadata": {
        "id": "VLFD5BgavCzp"
      },
      "execution_count": 1,
      "outputs": []
    },
    {
      "cell_type": "code",
      "source": [
        "class HumanAgent(mesa.Agent):\n",
        "    \"\"\"An agent with fixed initial wealth.\"\"\"\n",
        "\n",
        "    def __init__(self, unique_id, birth_rate,plant_rate, model):\n",
        "        super().__init__(unique_id, model)\n",
        "        self.health = 5\n",
        "        self.birth_rate = birth_rate\n",
        "        self.plant_rate=plant_rate\n",
        "\n",
        "    def move(self):\n",
        "        possible_steps = self.model.grid.get_neighborhood(\n",
        "            self.pos, moore=True, include_center=False)\n",
        "        new_position = self.random.choice(possible_steps)\n",
        "        self.model.grid.move_agent(self, new_position)\n",
        "\n",
        "    def decrease_health(self):\n",
        "        if self.health >= 0.1:\n",
        "            self.health -= 0.1\n",
        "\n",
        "            cellmates=self.model.grid.get_cell_list_contents([self.pos])\n",
        "            for cellmate in cellmates:\n",
        "              if isinstance(cellmate, PollutionAgent):\n",
        "                self.health -= cellmate.pollution / 10\n",
        "\n",
        "        else: # kill this agent\n",
        "          self.model.grid.remove_agent(self)\n",
        "          self.model.schedule.remove(self)\n",
        "          self.model.num_humans -=1\n",
        "\n",
        "    def step(self):\n",
        "      \n",
        "      \n",
        "\n",
        "      self.move()\n",
        "\n",
        "      \n",
        "    \n",
        "      if (random.random()<self.birth_rate) & (self.health > 4):      \n",
        "        a = HumanAgent(self.model.num_agents,self.birth_rate,self.plant_rate,self.model)\n",
        "        self.model.num_agents +=1\n",
        "        self.model.num_humans +=1\n",
        "        self.model.schedule.add(a)\n",
        "        self.model.grid.place_agent(a, self.pos)\n",
        "      \n",
        "      if random.random()<self.plant_rate:      \n",
        "        a = TreeAgent(self.model)\n",
        "        self.model.schedule.add(a)\n",
        "        self.model.grid.place_agent(a, self.pos)\n",
        "\n",
        "      self.decrease_health()\n",
        "\n",
        "        "
      ],
      "metadata": {
        "id": "AdI4F5QynVDT"
      },
      "execution_count": 2,
      "outputs": []
    },
    {
      "cell_type": "code",
      "source": [
        "class TreeAgent(mesa.Agent):\n",
        "\n",
        "    def __init__(self,  model):\n",
        "        super().__init__(self, model)\n",
        "        self.health = 5\n",
        "\n",
        "    def decrease_tree_health(self):\n",
        "        if self.health >= 0.1:\n",
        "          self.health -= 0.1\n",
        "        else:\n",
        "          self.model.grid.remove_agent(self)\n",
        "          self.model.schedule.remove(self)\n",
        "\n",
        "    def step(self):\n",
        "        self.decrease_tree_health()"
      ],
      "metadata": {
        "id": "rw0FcQZHnY3t"
      },
      "execution_count": 3,
      "outputs": []
    },
    {
      "cell_type": "code",
      "source": [
        "class PollutionAgent(mesa.Agent):\n",
        "\n",
        "    def __init__(self, pollution,fix,model):\n",
        "        super().__init__(self,model)\n",
        "        self.pollution = pollution\n",
        "        self.fix=fix\n",
        "        \n",
        "\n",
        "    def spread_pollution(self):\n",
        "      diff=0.8\n",
        "      neighbors = self.model.grid.get_neighbors(\n",
        "            self.pos, moore=True, include_center=True)\n",
        "    \n",
        "      all_p = 0\n",
        "      x=0\n",
        "      TreeNeighbor=False\n",
        "      for n in neighbors:\n",
        "        # print(n)\n",
        "        if isinstance(n, PollutionAgent):\n",
        "          all_p += n.pollution\n",
        "          x+=1\n",
        "        if isinstance(n, TreeAgent):\n",
        "          TreeNeighbor=True\n",
        "        \n",
        "      \n",
        "      ave_p = all_p / x\n",
        "      add_polution=(diff * (ave_p - self.pollution))\n",
        "      self.pollution += add_polution\n",
        "\n",
        "      # cellmates=self.model.grid.get_cell_list_contents([self.pos])\n",
        "      # for cellmate in cellmates:\n",
        "      #   if isinstance(cellmate, TreeAgent):\n",
        "      #     self.pollution=0\n",
        "\n",
        "      if TreeNeighbor:\n",
        "        self.pollution=0\n",
        "      \n",
        "\n",
        "    def step(self):\n",
        "      if not self.fix:\n",
        "        self.spread_pollution()"
      ],
      "metadata": {
        "id": "6gL63VtbnbHe"
      },
      "execution_count": 4,
      "outputs": []
    },
    {
      "cell_type": "code",
      "source": [
        "def human_population(model):\n",
        "    populaion = [agent.unique_id for agent in model.schedule.agents if isinstance(agent, HumanAgent)]\n",
        "    # print(type(agent_healths[0]))\n",
        "    return len(populaion)\n",
        "\n",
        "def tree_population(model):\n",
        "    populaion = [agent.unique_id for agent in model.schedule.agents if isinstance(agent, TreeAgent)]\n",
        "    return len(populaion)\n",
        "\n",
        "\n",
        "def total_pollution(model):\n",
        "    pollution = [agent.pollution for agent in model.schedule.agents if isinstance(agent, PollutionAgent)]\n",
        "    return sum(pollution)\n",
        "\n",
        "class UrbanModel(mesa.Model):\n",
        "    \"\"\"A model with some number of agents.\"\"\"\n",
        "\n",
        "    def __init__(self, N ,birth_rate,plant_rate,power_plants,pollution_rate):\n",
        "        width=80\n",
        "        height=80\n",
        "        self.num_agents = N\n",
        "        self.num_humans =N\n",
        "        self.birth_rate=birth_rate\n",
        "        self.power_plants=power_plants\n",
        "        self.pollution_rate=pollution_rate\n",
        "        self.grid = mesa.space.MultiGrid(width, height, True)\n",
        "        self.schedule = mesa.time.RandomActivation(self)\n",
        "\n",
        "        # Create pollution agent in all cells with pollution=0\n",
        "        for (contents, x, y) in self.grid.coord_iter():\n",
        "          cell = PollutionAgent(0,False,self)\n",
        "          self.grid.place_agent(cell, (x, y))\n",
        "          self.schedule.add(cell)\n",
        "        \n",
        "        # Create number of power plants\n",
        "        for i in range(self.power_plants):\n",
        "          a = PollutionAgent(pollution_rate,True,self)\n",
        "          self.schedule.add(a)\n",
        "          # Add the agent to a random grid cell\n",
        "          x = self.random.randrange(self.grid.width)\n",
        "          y = self.random.randrange(self.grid.height)\n",
        "          self.grid.place_agent(a, (x, y))\n",
        "\n",
        "        # Create human agents\n",
        "        for i in range(self.num_agents):\n",
        "            a = HumanAgent(i,birth_rate,plant_rate,self)\n",
        "            self.schedule.add(a)\n",
        "            # Add the agent to a random grid cell\n",
        "            x = self.random.randrange(self.grid.width)\n",
        "            y = self.random.randrange(self.grid.height)\n",
        "            self.grid.place_agent(a, (x, y))\n",
        "\n",
        "        self.datacollector = mesa.DataCollector(\n",
        "            model_reporters={\"Human_Population\": human_population,\n",
        "                             \"Tree_Numbers\": tree_population,\n",
        "                             \"total pollution\": total_pollution})\n",
        "\n",
        "\n",
        "    def step(self):\n",
        "        # print(\"main step\",self)\n",
        "        self.datacollector.collect(self)\n",
        "        self.schedule.step()"
      ],
      "metadata": {
        "id": "S_LIY25iBZIU"
      },
      "execution_count": 5,
      "outputs": []
    },
    {
      "cell_type": "code",
      "source": [
        "model = UrbanModel(N=30,birth_rate=0.09,plant_rate=0.05,power_plants=3,pollution_rate=3)\n",
        "for i in range(500):\n",
        "    model.step()\n",
        "    if model.num_humans ==0:\n",
        "      break\n",
        "\n",
        "data = model.datacollector.get_model_vars_dataframe()\n",
        "data.plot()"
      ],
      "metadata": {
        "id": "uzQFn1aKCoQD",
        "colab": {
          "base_uri": "https://localhost:8080/",
          "height": 282
        },
        "outputId": "38497a3e-0d5c-4757-9f72-d2c19bca020b"
      },
      "execution_count": 7,
      "outputs": [
        {
          "output_type": "execute_result",
          "data": {
            "text/plain": [
              "<matplotlib.axes._subplots.AxesSubplot at 0x7f5b4c612990>"
            ]
          },
          "metadata": {},
          "execution_count": 7
        },
        {
          "output_type": "display_data",
          "data": {
            "text/plain": [
              "<Figure size 432x288 with 1 Axes>"
            ],
            "image/png": "[encoded data removed]"
          },
          "metadata": {
            "needs_background": "light"
          }
        }
      ]
    },
    {
      "cell_type": "code",
      "source": [
        ""
      ],
      "metadata": {
        "id": "TcOs7y10I2Py"
      },
      "execution_count": null,
      "outputs": []
    }
  ]
}